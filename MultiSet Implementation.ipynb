{
 "cells": [
  {
   "cell_type": "code",
   "execution_count": null,
   "metadata": {},
   "outputs": [],
   "source": [
    "class Multiset:\n",
    "    def __init__(self):\n",
    "        self.M = []\n",
    "    \n",
    "    def add(self, val):\n",
    "        # adds one occurrence of val from the multiset, if any\n",
    "        self.M.append(val)\n",
    "\n",
    "    def remove(self, val):\n",
    "        # removes one occurrence of val from the multiset, if any\n",
    "        if len(self.M):\n",
    "            if val in self.M:\n",
    "                self.M.remove(val)\n",
    "\n",
    "    def __contains__(self, val):\n",
    "        # returns True when val is in the multiset, else returns False\n",
    "        if val in self.M:\n",
    "            return True\n",
    "        return False\n",
    "    \n",
    "    def __len__(self):\n",
    "        # returns the number of elements in the multiset\n",
    "        return len(self.M)\n",
    "if __name__ == '__main__':\n",
    "    def performOperations(operations):\n",
    "        m = Multiset()\n",
    "        result = []\n",
    "        for op_str in operations:\n",
    "            elems = op_str.split()\n",
    "            if elems[0] == 'size':\n",
    "                result.append(len(m))\n",
    "            else:\n",
    "                op, val = elems[0], int(elems[1])\n",
    "                if op == 'query':\n",
    "                    result.append(val in m)\n",
    "                elif op == 'add':\n",
    "                    m.add(val)\n",
    "                elif op == 'remove':\n",
    "                    m.remove(val)\n",
    "        return result\n",
    "\n",
    "    q = int(input())\n",
    "    operations = []\n",
    "    for _ in range(q):\n",
    "        operations.append(input())\n",
    "\n",
    "    result = performOperations(operations)\n",
    "    \n",
    "    fptr = open(os.environ['OUTPUT_PATH'], 'w')\n",
    "    fptr.write('\\n'.join(map(str, result)))\n",
    "    fptr.write('\\n')\n",
    "    fptr.close()"
   ]
  },
  {
   "cell_type": "code",
   "execution_count": null,
   "metadata": {},
   "outputs": [],
   "source": []
  }
 ],
 "metadata": {
  "kernelspec": {
   "display_name": "Python 3",
   "language": "python",
   "name": "python3"
  },
  "language_info": {
   "codemirror_mode": {
    "name": "ipython",
    "version": 3
   },
   "file_extension": ".py",
   "mimetype": "text/x-python",
   "name": "python",
   "nbconvert_exporter": "python",
   "pygments_lexer": "ipython3",
   "version": "3.7.4"
  }
 },
 "nbformat": 4,
 "nbformat_minor": 2
}
