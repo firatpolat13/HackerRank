{
 "cells": [
  {
   "cell_type": "markdown",
   "metadata": {},
   "source": [
    "You are given a string and your task is to swap cases. In other words, convert all lowercase letters to uppercase letters and vice versa.\n",
    "\n",
    "For Example:\n",
    "\n",
    "Www.HackerRank.com → wWW.hACKERrANK.COM\n",
    "Pythonist 2 → pYTHONIST 2\n",
    "\n",
    "Input Format\n",
    "\n",
    "A single line containing a string\n",
    "\n",
    ".\n",
    "\n",
    "Constraints\n",
    "\n",
    "Output Format\n",
    "\n",
    "Print the modified string\n",
    "\n",
    ".\n",
    "\n",
    "Sample Input 0\n",
    "\n",
    "HackerRank.com presents \"Pythonist 2\".\n",
    "\n",
    "Sample Output 0\n",
    "\n",
    "hACKERrANK.COM PRESENTS \"pYTHONIST 2\".\n",
    "\n"
   ]
  },
  {
   "cell_type": "code",
   "execution_count": 1,
   "metadata": {},
   "outputs": [],
   "source": [
    "def swap_case(s):\n",
    "    new_s = \"\"\n",
    "    for char in range(len(s)):\n",
    "        if s[char].isupper():\n",
    "            new_s += s[char].lower()\n",
    "        elif s[char].islower():\n",
    "            new_s += s[char].upper()\n",
    "        else:\n",
    "            new_s += s[char]\n",
    "    return new_s"
   ]
  },
  {
   "cell_type": "code",
   "execution_count": 3,
   "metadata": {},
   "outputs": [
    {
     "data": {
      "text/plain": [
       "'ASDvsad 2'"
      ]
     },
     "execution_count": 3,
     "metadata": {},
     "output_type": "execute_result"
    }
   ],
   "source": [
    "swap_case(\"asdVSAD 2\")"
   ]
  }
 ],
 "metadata": {
  "kernelspec": {
   "display_name": "Python 3",
   "language": "python",
   "name": "python3"
  },
  "language_info": {
   "codemirror_mode": {
    "name": "ipython",
    "version": 3
   },
   "file_extension": ".py",
   "mimetype": "text/x-python",
   "name": "python",
   "nbconvert_exporter": "python",
   "pygments_lexer": "ipython3",
   "version": "3.7.4"
  }
 },
 "nbformat": 4,
 "nbformat_minor": 2
}
